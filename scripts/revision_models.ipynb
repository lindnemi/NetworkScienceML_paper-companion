{
 "cells": [
  {
   "cell_type": "code",
   "execution_count": 1,
   "metadata": {},
   "outputs": [],
   "source": [
    "## Load modules\n",
    "\n",
    "from sklearn.metrics import r2_score\n",
    "from sklearn.preprocessing import StandardScaler\n",
    "from sklearn.pipeline import make_pipeline\n",
    "from sklearn.feature_selection import VarianceThreshold\n",
    "\n",
    "import pandas as pd\n",
    "import h5py\n",
    "import numpy as np\n",
    "import time\n",
    "\n",
    "from tools import add_interactions  # custom tools defined in this directory\n",
    "from tools import save_model\n",
    "from math import isclose"
   ]
  },
  {
   "cell_type": "code",
   "execution_count": 13,
   "metadata": {},
   "outputs": [],
   "source": [
    "data = pd.read_csv(\"data/WS_data/preprocessing_helpers/WS_data.csv\")\n",
    "np.random.seed(10)\n",
    "data= data.iloc[np.random.permutation(len(data))]"
   ]
  },
  {
   "cell_type": "code",
   "execution_count": 21,
   "metadata": {},
   "outputs": [],
   "source": [
    "X = data[data.keys()[[1,2,3,6]].union(data.keys()[10:])].drop(columns=[\"node_cat\", \"proper leaf\"])\n",
    "y = data[\"snbs\"]"
   ]
  },
  {
   "cell_type": "code",
   "execution_count": 22,
   "metadata": {},
   "outputs": [
    {
     "data": {
      "text/plain": [
       "False"
      ]
     },
     "execution_count": 22,
     "metadata": {},
     "output_type": "execute_result"
    }
   ],
   "source": [
    "isclose(len(X) * 0.85 % 1, 0, abs_tol=10e-12)"
   ]
  },
  {
   "cell_type": "code",
   "execution_count": 23,
   "metadata": {},
   "outputs": [
    {
     "name": "stderr",
     "output_type": "stream",
     "text": [
      "/tmp/ipykernel_18743/2397554309.py:5: FutureWarning: The behavior of `series[i:j]` with an integer-dtype index is deprecated. In a future version, this will be treated as *label-based* indexing, consistent with e.g. `series[i]` lookups. To retain the old behavior, use `series.iloc[i:j]`. To get the future behavior, use `series.loc[i:j]`.\n",
      "  y_train = y[:int(len(y) * train_fraction)]\n"
     ]
    }
   ],
   "source": [
    "train_fraction = 0.7\n",
    "X_test = X.iloc[int(len(X) * 0.85):]\n",
    "y_test = y.iloc[int(len(y) * 0.85):]\n",
    "X_train = X.iloc[:int(len(X) * train_fraction)]\n",
    "y_train = y[:int(len(y) * train_fraction)]"
   ]
  },
  {
   "cell_type": "code",
   "execution_count": 24,
   "metadata": {},
   "outputs": [],
   "source": [
    "from sklearn.ensemble import HistGradientBoostingRegressor\n",
    "from sklearn.linear_model import LinearRegression\n",
    "from sklearn.linear_model import OrthogonalMatchingPursuit"
   ]
  },
  {
   "cell_type": "code",
   "execution_count": 61,
   "metadata": {},
   "outputs": [],
   "source": [
    "model = make_pipeline(StandardScaler(), \n",
    "    VarianceThreshold(),  \n",
    "    HistGradientBoostingRegressor(\n",
    "        max_iter=1750,\n",
    "        loss=\"poisson\",\n",
    "        early_stopping=False,\n",
    "        learning_rate=0.09,\n",
    "        random_state=1))\n"
   ]
  },
  {
   "cell_type": "code",
   "execution_count": 26,
   "metadata": {},
   "outputs": [],
   "source": [
    "model = make_pipeline(StandardScaler(), \n",
    "    VarianceThreshold(),  \n",
    "    LinearRegression())"
   ]
  },
  {
   "cell_type": "code",
   "execution_count": 62,
   "metadata": {},
   "outputs": [
    {
     "data": {
      "text/html": [
       "<style>#sk-container-id-8 {color: black;background-color: white;}#sk-container-id-8 pre{padding: 0;}#sk-container-id-8 div.sk-toggleable {background-color: white;}#sk-container-id-8 label.sk-toggleable__label {cursor: pointer;display: block;width: 100%;margin-bottom: 0;padding: 0.3em;box-sizing: border-box;text-align: center;}#sk-container-id-8 label.sk-toggleable__label-arrow:before {content: \"▸\";float: left;margin-right: 0.25em;color: #696969;}#sk-container-id-8 label.sk-toggleable__label-arrow:hover:before {color: black;}#sk-container-id-8 div.sk-estimator:hover label.sk-toggleable__label-arrow:before {color: black;}#sk-container-id-8 div.sk-toggleable__content {max-height: 0;max-width: 0;overflow: hidden;text-align: left;background-color: #f0f8ff;}#sk-container-id-8 div.sk-toggleable__content pre {margin: 0.2em;color: black;border-radius: 0.25em;background-color: #f0f8ff;}#sk-container-id-8 input.sk-toggleable__control:checked~div.sk-toggleable__content {max-height: 200px;max-width: 100%;overflow: auto;}#sk-container-id-8 input.sk-toggleable__control:checked~label.sk-toggleable__label-arrow:before {content: \"▾\";}#sk-container-id-8 div.sk-estimator input.sk-toggleable__control:checked~label.sk-toggleable__label {background-color: #d4ebff;}#sk-container-id-8 div.sk-label input.sk-toggleable__control:checked~label.sk-toggleable__label {background-color: #d4ebff;}#sk-container-id-8 input.sk-hidden--visually {border: 0;clip: rect(1px 1px 1px 1px);clip: rect(1px, 1px, 1px, 1px);height: 1px;margin: -1px;overflow: hidden;padding: 0;position: absolute;width: 1px;}#sk-container-id-8 div.sk-estimator {font-family: monospace;background-color: #f0f8ff;border: 1px dotted black;border-radius: 0.25em;box-sizing: border-box;margin-bottom: 0.5em;}#sk-container-id-8 div.sk-estimator:hover {background-color: #d4ebff;}#sk-container-id-8 div.sk-parallel-item::after {content: \"\";width: 100%;border-bottom: 1px solid gray;flex-grow: 1;}#sk-container-id-8 div.sk-label:hover label.sk-toggleable__label {background-color: #d4ebff;}#sk-container-id-8 div.sk-serial::before {content: \"\";position: absolute;border-left: 1px solid gray;box-sizing: border-box;top: 0;bottom: 0;left: 50%;z-index: 0;}#sk-container-id-8 div.sk-serial {display: flex;flex-direction: column;align-items: center;background-color: white;padding-right: 0.2em;padding-left: 0.2em;position: relative;}#sk-container-id-8 div.sk-item {position: relative;z-index: 1;}#sk-container-id-8 div.sk-parallel {display: flex;align-items: stretch;justify-content: center;background-color: white;position: relative;}#sk-container-id-8 div.sk-item::before, #sk-container-id-8 div.sk-parallel-item::before {content: \"\";position: absolute;border-left: 1px solid gray;box-sizing: border-box;top: 0;bottom: 0;left: 50%;z-index: -1;}#sk-container-id-8 div.sk-parallel-item {display: flex;flex-direction: column;z-index: 1;position: relative;background-color: white;}#sk-container-id-8 div.sk-parallel-item:first-child::after {align-self: flex-end;width: 50%;}#sk-container-id-8 div.sk-parallel-item:last-child::after {align-self: flex-start;width: 50%;}#sk-container-id-8 div.sk-parallel-item:only-child::after {width: 0;}#sk-container-id-8 div.sk-dashed-wrapped {border: 1px dashed gray;margin: 0 0.4em 0.5em 0.4em;box-sizing: border-box;padding-bottom: 0.4em;background-color: white;}#sk-container-id-8 div.sk-label label {font-family: monospace;font-weight: bold;display: inline-block;line-height: 1.2em;}#sk-container-id-8 div.sk-label-container {text-align: center;}#sk-container-id-8 div.sk-container {/* jupyter's `normalize.less` sets `[hidden] { display: none; }` but bootstrap.min.css set `[hidden] { display: none !important; }` so we also need the `!important` here to be able to override the default hidden behavior on the sphinx rendered scikit-learn.org. See: https://github.com/scikit-learn/scikit-learn/issues/21755 */display: inline-block !important;position: relative;}#sk-container-id-8 div.sk-text-repr-fallback {display: none;}</style><div id=\"sk-container-id-8\" class=\"sk-top-container\"><div class=\"sk-text-repr-fallback\"><pre>Pipeline(steps=[(&#x27;standardscaler&#x27;, StandardScaler()),\n",
       "                (&#x27;variancethreshold&#x27;, VarianceThreshold()),\n",
       "                (&#x27;histgradientboostingregressor&#x27;,\n",
       "                 HistGradientBoostingRegressor(early_stopping=False,\n",
       "                                               learning_rate=0.09,\n",
       "                                               loss=&#x27;poisson&#x27;, max_iter=1750,\n",
       "                                               random_state=1))])</pre><b>In a Jupyter environment, please rerun this cell to show the HTML representation or trust the notebook. <br />On GitHub, the HTML representation is unable to render, please try loading this page with nbviewer.org.</b></div><div class=\"sk-container\" hidden><div class=\"sk-item sk-dashed-wrapped\"><div class=\"sk-label-container\"><div class=\"sk-label sk-toggleable\"><input class=\"sk-toggleable__control sk-hidden--visually\" id=\"sk-estimator-id-29\" type=\"checkbox\" ><label for=\"sk-estimator-id-29\" class=\"sk-toggleable__label sk-toggleable__label-arrow\">Pipeline</label><div class=\"sk-toggleable__content\"><pre>Pipeline(steps=[(&#x27;standardscaler&#x27;, StandardScaler()),\n",
       "                (&#x27;variancethreshold&#x27;, VarianceThreshold()),\n",
       "                (&#x27;histgradientboostingregressor&#x27;,\n",
       "                 HistGradientBoostingRegressor(early_stopping=False,\n",
       "                                               learning_rate=0.09,\n",
       "                                               loss=&#x27;poisson&#x27;, max_iter=1750,\n",
       "                                               random_state=1))])</pre></div></div></div><div class=\"sk-serial\"><div class=\"sk-item\"><div class=\"sk-estimator sk-toggleable\"><input class=\"sk-toggleable__control sk-hidden--visually\" id=\"sk-estimator-id-30\" type=\"checkbox\" ><label for=\"sk-estimator-id-30\" class=\"sk-toggleable__label sk-toggleable__label-arrow\">StandardScaler</label><div class=\"sk-toggleable__content\"><pre>StandardScaler()</pre></div></div></div><div class=\"sk-item\"><div class=\"sk-estimator sk-toggleable\"><input class=\"sk-toggleable__control sk-hidden--visually\" id=\"sk-estimator-id-31\" type=\"checkbox\" ><label for=\"sk-estimator-id-31\" class=\"sk-toggleable__label sk-toggleable__label-arrow\">VarianceThreshold</label><div class=\"sk-toggleable__content\"><pre>VarianceThreshold()</pre></div></div></div><div class=\"sk-item\"><div class=\"sk-estimator sk-toggleable\"><input class=\"sk-toggleable__control sk-hidden--visually\" id=\"sk-estimator-id-32\" type=\"checkbox\" ><label for=\"sk-estimator-id-32\" class=\"sk-toggleable__label sk-toggleable__label-arrow\">HistGradientBoostingRegressor</label><div class=\"sk-toggleable__content\"><pre>HistGradientBoostingRegressor(early_stopping=False, learning_rate=0.09,\n",
       "                              loss=&#x27;poisson&#x27;, max_iter=1750, random_state=1)</pre></div></div></div></div></div></div></div>"
      ],
      "text/plain": [
       "Pipeline(steps=[('standardscaler', StandardScaler()),\n",
       "                ('variancethreshold', VarianceThreshold()),\n",
       "                ('histgradientboostingregressor',\n",
       "                 HistGradientBoostingRegressor(early_stopping=False,\n",
       "                                               learning_rate=0.09,\n",
       "                                               loss='poisson', max_iter=1750,\n",
       "                                               random_state=1))])"
      ]
     },
     "execution_count": 62,
     "metadata": {},
     "output_type": "execute_result"
    }
   ],
   "source": [
    "model.fit(X_train, y_train)"
   ]
  },
  {
   "cell_type": "code",
   "execution_count": 63,
   "metadata": {},
   "outputs": [
    {
     "data": {
      "text/plain": [
       "0.9152524609875418"
      ]
     },
     "execution_count": 63,
     "metadata": {},
     "output_type": "execute_result"
    }
   ],
   "source": [
    "train_r2 = r2_score(y_train, model.predict(X_train))\n",
    "train_r2"
   ]
  },
  {
   "cell_type": "code",
   "execution_count": null,
   "metadata": {},
   "outputs": [],
   "source": []
  },
  {
   "cell_type": "code",
   "execution_count": 64,
   "metadata": {},
   "outputs": [
    {
     "data": {
      "text/plain": [
       "0.7069339580142777"
      ]
     },
     "execution_count": 64,
     "metadata": {},
     "output_type": "execute_result"
    }
   ],
   "source": [
    "r2_score(y_test, model.predict(X_test))"
   ]
  },
  {
   "cell_type": "markdown",
   "metadata": {},
   "source": [
    "# Dataset v2\n"
   ]
  },
  {
   "cell_type": "code",
   "execution_count": null,
   "metadata": {},
   "outputs": [],
   "source": [
    "with h5py.File(\"data/n128/data/ml_input_grid_data_hetero.h5\", \"r\") as f:\n",
    "    f.create_dataset(\"X_train\", data=X_train)\n",
    "    f.create_dataset(\"y_train\", data=y_train)\n",
    "    f.create_dataset(\"X_test\", data=X_test)\n",
    "    f.create_dataset(\"y_test\", data=y_test)\n",
    "data = pd.read_csv(\"data/n128/data/ml_input_grid_data_hetero.h5\")"
   ]
  },
  {
   "cell_type": "code",
   "execution_count": 68,
   "metadata": {},
   "outputs": [],
   "source": [
    "f = h5py.File(\"data/n128/data/ml_input_grid_data_hetero.h5\", \"r\")"
   ]
  },
  {
   "cell_type": "code",
   "execution_count": 77,
   "metadata": {},
   "outputs": [
    {
     "data": {
      "text/plain": [
       "array([[ 2.21018933e+00, -8.40978776e-01,  2.35205888e+00,\n",
       "         1.23934760e+00,  3.19985139e+00, -2.11736794e+00,\n",
       "        -1.40965597e+00,  3.45405602e+00, -3.05196313e+00,\n",
       "         1.95911899e+00, -2.82282378e+00, -2.92695262e+00,\n",
       "         2.88221929e+00, -6.75261449e-01, -1.98016408e+00,\n",
       "        -2.11494787e+00, -2.25238370e+00,  4.33767253e+00,\n",
       "        -1.13043468e+00, -1.82434102e+00, -2.88317742e+00,\n",
       "         2.95524435e+00, -2.04597868e+00,  3.50119006e+00,\n",
       "         1.91684462e+00, -1.75330066e+00,  2.81422772e+00,\n",
       "         2.16254966e+00, -2.08359987e+00, -5.75702591e-01,\n",
       "         3.38674423e+00, -1.86382492e+00,  2.23594585e+00,\n",
       "        -1.40705547e+00,  1.01948939e+00,  3.75866860e+00,\n",
       "        -8.57343957e-01, -2.95656293e+00, -2.55887695e+00,\n",
       "        -4.22866156e+00,  2.78897724e+00,  2.46290237e+00,\n",
       "         3.08847101e-01,  1.29355776e+00, -5.63702824e-01,\n",
       "         9.87247732e-01, -3.13813245e-01, -3.42613683e+00,\n",
       "         1.48714893e+00, -2.19836767e+00, -1.55152744e+00,\n",
       "         3.00209925e+00, -2.76981219e+00, -2.20010088e+00,\n",
       "        -2.18502284e+00, -2.47987167e+00,  1.96816755e+00,\n",
       "        -2.57721927e+00,  7.55252096e-01,  2.49138955e+00,\n",
       "         4.59017625e+00,  1.47516266e+00, -4.51221853e+00],\n",
       "       [-1.91721152e+00, -1.28025604e+00, -4.36155126e-01,\n",
       "        -1.17134331e+00, -1.10748696e+00,  3.32912267e-02,\n",
       "        -4.90514320e-01, -1.72758268e+00,  2.80635404e-02,\n",
       "        -1.28756447e+00, -1.36437397e-01, -7.43229822e-02,\n",
       "        -6.41685229e-01, -8.32642091e-01, -1.66808454e-02,\n",
       "        -9.69022929e-02, -1.92130496e-01, -6.19890328e-01,\n",
       "        -4.29775585e-01, -6.80811151e-02,  1.52270717e-01,\n",
       "        -7.61508246e-01,  2.23758242e-02, -7.04240531e-01,\n",
       "        -5.72094150e-01, -8.09310166e-02, -4.72593664e-01,\n",
       "        -4.26772391e-01,  8.07070441e-02, -3.62894361e-02,\n",
       "        -4.29865253e-01, -1.90378643e-02, -4.09409603e-01,\n",
       "         5.75152960e-02, -1.78278828e-01, -3.96942029e-01,\n",
       "        -1.75296333e-01, -3.80084143e-01, -8.91872990e-03,\n",
       "         4.13837147e-01, -4.47579567e-01, -5.44966379e-01,\n",
       "        -2.04215816e-01, -1.80579856e-01, -4.26925600e-02,\n",
       "        -1.47057216e-01, -2.57520293e-01,  1.80885899e-01,\n",
       "        -3.09027299e-01,  7.48379274e-02,  8.46675346e-02,\n",
       "        -3.65145259e-01,  2.26072456e-01,  1.97048292e-01,\n",
       "        -1.50322525e-01,  1.64688401e-01, -3.70550007e-01,\n",
       "         2.44858379e-01, -2.64628055e-01, -3.05109734e-01,\n",
       "        -5.92251890e-01, -1.82939222e-01,  3.62898917e-01],\n",
       "       [-1.00000000e+00, -2.00000000e+00, -2.00000000e+00,\n",
       "        -2.00000000e-01, -2.00000000e+00, -2.00000000e+00,\n",
       "        -2.00000000e+00, -2.00000000e-01, -2.00000000e+00,\n",
       "        -1.00000000e+00, -2.00000000e+00, -1.00000000e+00,\n",
       "        -2.00000000e-01, -2.00000000e-01, -2.00000000e-01,\n",
       "        -2.00000000e+00, -2.00000000e-01, -2.00000000e-01,\n",
       "        -2.00000000e-01, -2.00000000e+00, -1.00000000e+00,\n",
       "        -2.00000000e-01, -2.00000000e+00, -1.00000000e+00,\n",
       "        -2.00000000e-01, -1.00000000e+00, -2.00000000e-01,\n",
       "        -2.00000000e-01, -2.00000000e+00, -1.00000000e+00,\n",
       "        -2.00000000e-01, -2.00000000e-01, -1.00000000e+00,\n",
       "        -2.00000000e+00, -1.00000000e+00, -2.00000000e+00,\n",
       "        -2.00000000e-01, -1.00000000e+00, -1.00000000e+00,\n",
       "        -2.00000000e-01, -1.00000000e+00, -2.00000000e-01,\n",
       "        -2.00000000e-01, -2.00000000e+00, -1.00000000e+00,\n",
       "        -2.00000000e-01, -1.00000000e+00, -2.00000000e-01,\n",
       "        -1.00000000e+00, -1.00000000e+00, -2.00000000e+00,\n",
       "        -2.00000000e+00, -2.00000000e+00, -1.00000000e+00,\n",
       "        -2.00000000e+00, -2.00000000e+00, -1.00000000e+00,\n",
       "        -2.00000000e+00, -1.00000000e+00, -2.00000000e+00,\n",
       "        -2.00000000e-01, -1.00000000e+00, -1.00000000e+00],\n",
       "       [ 1.69782446e+02,  2.54622829e+02,  1.67557557e+02,\n",
       "         1.23913503e+02,  6.69868131e+01,  8.50190694e+01,\n",
       "         1.63831568e+02,  1.49316270e+02,  6.81787973e+01,\n",
       "         7.61303726e+01,  1.01642877e+02,  1.11974515e+02,\n",
       "         8.47909725e+01,  3.23761511e+01,  1.27267357e+02,\n",
       "         1.02287385e+02,  2.87381643e+02,  6.32000246e+01,\n",
       "         8.94416819e+01,  8.01884845e+01,  4.65383334e+01,\n",
       "         4.04335413e+01,  9.39464376e+01,  1.29183586e+02,\n",
       "         4.08279438e+01,  5.01751825e+01,  3.44895101e+01,\n",
       "         3.37872024e+01,  1.33726230e+02,  1.87552697e+01,\n",
       "         1.87324810e+02,  6.54953105e+01,  3.94252299e+01,\n",
       "         2.59591683e+02,  1.08271403e+02,  5.04946807e+01,\n",
       "         4.14683341e+01,  7.36186153e+01,  7.78003338e+01,\n",
       "         9.67645098e+01,  3.98179079e+01,  1.07256377e+02,\n",
       "         3.78794602e+01,  3.30437947e+01,  7.64518647e+01,\n",
       "         3.57503087e+01,  2.49999865e+01,  2.86462172e+02,\n",
       "         1.47023175e+02,  4.84100488e+01,  2.34866192e+01,\n",
       "         2.03681891e+01,  2.72894831e+01,  6.67449004e+01,\n",
       "         6.13904573e+01,  1.76003759e+01,  4.00500449e+01,\n",
       "         1.39431766e+02,  1.43961595e+02,  2.61554870e+01,\n",
       "         1.25985482e+02,  4.70668610e+01,  6.92295511e+01],\n",
       "       [-1.69782446e+03, -2.54622829e+03, -1.67557557e+03,\n",
       "        -1.23913503e+03, -6.69868131e+02, -8.50190694e+02,\n",
       "        -1.63831568e+03, -1.49316270e+03, -6.81787973e+02,\n",
       "        -7.61303726e+02, -1.01642877e+03, -1.11974515e+03,\n",
       "        -8.47909725e+02, -3.23761511e+02, -1.27267357e+03,\n",
       "        -1.02287385e+03, -2.87381643e+03, -6.32000246e+02,\n",
       "        -8.94416819e+02, -8.01884845e+02, -4.65383334e+02,\n",
       "        -4.04335413e+02, -9.39464376e+02, -1.29183586e+03,\n",
       "        -4.08279438e+02, -5.01751825e+02, -3.44895101e+02,\n",
       "        -3.37872024e+02, -1.33726230e+03, -1.87552697e+02,\n",
       "        -1.87324810e+03, -6.54953105e+02, -3.94252299e+02,\n",
       "        -2.59591683e+03, -1.08271403e+03, -5.04946807e+02,\n",
       "        -4.14683341e+02, -7.36186153e+02, -7.78003338e+02,\n",
       "        -9.67645098e+02, -3.98179079e+02, -1.07256377e+03,\n",
       "        -3.78794602e+02, -3.30437947e+02, -7.64518647e+02,\n",
       "        -3.57503087e+02, -2.49999865e+02, -2.86462172e+03,\n",
       "        -1.47023175e+03, -4.84100488e+02, -2.34866192e+02,\n",
       "        -2.03681891e+02, -2.72894831e+02, -6.67449004e+02,\n",
       "        -6.13904573e+02, -1.76003759e+02, -4.00500449e+02,\n",
       "        -1.39431766e+03, -1.43961595e+03, -2.61554870e+02,\n",
       "        -1.25985482e+03, -4.70668610e+02, -6.92295511e+02],\n",
       "       [ 1.75371869e+00,  1.44947498e+00,  2.15413321e-01,\n",
       "         1.07075766e+00,  8.26659465e-01,  3.37530757e-01,\n",
       "         6.64817474e-01,  1.44048354e+00,  3.08823360e-01,\n",
       "         1.27574251e+00,  5.09102278e-01,  4.20136716e-01,\n",
       "         3.71186808e-01,  9.75541755e-01,  2.57197553e-01,\n",
       "         3.39362306e-01,  5.02386233e-01,  3.04281467e-01,\n",
       "         5.53357508e-01,  2.74950303e-01,  1.58716043e-01,\n",
       "         4.85498607e-01,  1.91392940e-01,  3.69009344e-01,\n",
       "         3.95562490e-01,  3.03166707e-01,  2.06106589e-01,\n",
       "         2.17804335e-01,  1.33987336e-01,  9.47523814e-02,\n",
       "         1.02052519e-01,  2.57603586e-01,  1.92445913e-01,\n",
       "         1.21998284e-01,  7.68208276e-02,  3.51939342e-02,\n",
       "         2.64724389e-01,  6.93139902e-01,  2.93916121e-01,\n",
       "         1.83652713e-02,  1.78543804e-01,  3.04477463e-01,\n",
       "         1.88261312e-01,  5.37803387e-02,  1.01270573e-01,\n",
       "         4.97088427e-02,  2.89538917e-01,  2.18621878e-01,\n",
       "         1.66082475e-01,  1.57499024e-01,  7.56646349e-02,\n",
       "         8.72491148e-02,  6.51205619e-02,  2.66253521e-02,\n",
       "         3.83533786e-01,  1.00969802e-01,  1.81154139e-01,\n",
       "         5.26826449e-02,  2.08347258e-01,  6.79439259e-02,\n",
       "         1.42362960e-01,  3.77570637e-02,  1.03510921e-01]])"
      ]
     },
     "execution_count": 77,
     "metadata": {},
     "output_type": "execute_result"
    }
   ],
   "source": [
    "np.array(f.get(\"grids/1/node_features_group/normalForm/features\"))"
   ]
  },
  {
   "cell_type": "code",
   "execution_count": 146,
   "metadata": {},
   "outputs": [],
   "source": [
    "f.get(\"grids/1/node_features_group/load/features\")#.keys()"
   ]
  },
  {
   "cell_type": "code",
   "execution_count": 144,
   "metadata": {},
   "outputs": [
    {
     "data": {
      "text/plain": [
       "(5, 192)"
      ]
     },
     "execution_count": 144,
     "metadata": {},
     "output_type": "execute_result"
    }
   ],
   "source": [
    "np.array(f[\"grids/1/line_features_group/1/edge_attr\"]).shape"
   ]
  },
  {
   "cell_type": "code",
   "execution_count": 141,
   "metadata": {},
   "outputs": [
    {
     "data": {
      "text/plain": [
       "array([[  1,   2],\n",
       "       [  2,   1],\n",
       "       [  1,   3],\n",
       "       [  3,   1],\n",
       "       [  3,   4],\n",
       "       [  4,   3],\n",
       "       [  3,   5],\n",
       "       [  5,   3],\n",
       "       [  3,  12],\n",
       "       [ 12,   3],\n",
       "       [  4,   6],\n",
       "       [  6,   4],\n",
       "       [  4,  13],\n",
       "       [ 13,   4],\n",
       "       [  4,  14],\n",
       "       [ 14,   4],\n",
       "       [  4,  18],\n",
       "       [ 18,   4],\n",
       "       [  4,  61],\n",
       "       [ 61,   4],\n",
       "       [  4, 110],\n",
       "       [110,   4],\n",
       "       [  5,  10],\n",
       "       [ 10,   5],\n",
       "       [  6,  76],\n",
       "       [ 76,   6],\n",
       "       [  8,   9],\n",
       "       [  9,   8],\n",
       "       [  8,  11],\n",
       "       [ 11,   8],\n",
       "       [  8,  28],\n",
       "       [ 28,   8],\n",
       "       [  9,  11],\n",
       "       [ 11,   9],\n",
       "       [  9, 127],\n",
       "       [127,   9],\n",
       "       [ 10,  52],\n",
       "       [ 52,  10],\n",
       "       [ 12,  40],\n",
       "       [ 40,  12],\n",
       "       [ 13,  14],\n",
       "       [ 14,  13],\n",
       "       [ 13,  41],\n",
       "       [ 41,  13],\n",
       "       [ 14,  46],\n",
       "       [ 46,  14],\n",
       "       [ 15,  16],\n",
       "       [ 16,  15],\n",
       "       [ 15,  51],\n",
       "       [ 51,  15],\n",
       "       [ 16,  70],\n",
       "       [ 70,  16],\n",
       "       [ 17,  53],\n",
       "       [ 53,  17],\n",
       "       [ 18,  47],\n",
       "       [ 47,  18],\n",
       "       [ 18,  75],\n",
       "       [ 75,  18],\n",
       "       [ 20,  21],\n",
       "       [ 21,  20],\n",
       "       [ 20,  30],\n",
       "       [ 30,  20],\n",
       "       [ 21,  30],\n",
       "       [ 30,  21],\n",
       "       [ 22,  35],\n",
       "       [ 35,  22],\n",
       "       [ 22,  71],\n",
       "       [ 71,  22],\n",
       "       [ 22, 118],\n",
       "       [118,  22],\n",
       "       [ 24,  93],\n",
       "       [ 93,  24],\n",
       "       [ 25,  27],\n",
       "       [ 27,  25],\n",
       "       [ 26,  29],\n",
       "       [ 29,  26],\n",
       "       [ 26,  52],\n",
       "       [ 52,  26],\n",
       "       [ 26,  81],\n",
       "       [ 81,  26],\n",
       "       [ 27,  37],\n",
       "       [ 37,  27],\n",
       "       [ 28,  59],\n",
       "       [ 59,  28],\n",
       "       [ 29, 117],\n",
       "       [117,  29],\n",
       "       [ 31, 103],\n",
       "       [103,  31],\n",
       "       [ 32,  60],\n",
       "       [ 60,  32],\n",
       "       [ 33,  43],\n",
       "       [ 43,  33],\n",
       "       [ 34,  90],\n",
       "       [ 90,  34],\n",
       "       [ 35,  66],\n",
       "       [ 66,  35],\n",
       "       [ 35, 115],\n",
       "       [115,  35],\n",
       "       [ 38,  83],\n",
       "       [ 83,  38],\n",
       "       [ 39,  48],\n",
       "       [ 48,  39],\n",
       "       [ 40,  49],\n",
       "       [ 49,  40],\n",
       "       [ 41,  45],\n",
       "       [ 45,  41],\n",
       "       [ 41,  47],\n",
       "       [ 47,  41],\n",
       "       [ 43,  72],\n",
       "       [ 72,  43],\n",
       "       [ 43,  91],\n",
       "       [ 91,  43],\n",
       "       [ 43,  94],\n",
       "       [ 94,  43],\n",
       "       [ 44,  73],\n",
       "       [ 73,  44],\n",
       "       [ 45,  61],\n",
       "       [ 61,  45],\n",
       "       [ 45,  73],\n",
       "       [ 73,  45],\n",
       "       [ 46, 107],\n",
       "       [107,  46],\n",
       "       [ 47,  73],\n",
       "       [ 73,  47],\n",
       "       [ 50,  64],\n",
       "       [ 64,  50],\n",
       "       [ 51,  57],\n",
       "       [ 57,  51],\n",
       "       [ 52,  55],\n",
       "       [ 55,  52],\n",
       "       [ 52,  81],\n",
       "       [ 81,  52],\n",
       "       [ 53,  63],\n",
       "       [ 63,  53],\n",
       "       [ 58,  92],\n",
       "       [ 92,  58],\n",
       "       [ 59,  69],\n",
       "       [ 69,  59],\n",
       "       [ 62,  77],\n",
       "       [ 77,  62],\n",
       "       [ 67,  82],\n",
       "       [ 82,  67],\n",
       "       [ 71, 115],\n",
       "       [115,  71],\n",
       "       [ 72,  94],\n",
       "       [ 94,  72],\n",
       "       [ 74, 102],\n",
       "       [102,  74],\n",
       "       [ 79, 123],\n",
       "       [123,  79],\n",
       "       [ 80,  99],\n",
       "       [ 99,  80],\n",
       "       [ 93,  96],\n",
       "       [ 96,  93],\n",
       "       [ 93, 106],\n",
       "       [106,  93],\n",
       "       [ 98, 105],\n",
       "       [105,  98],\n",
       "       [ 98, 121],\n",
       "       [121,  98],\n",
       "       [109, 113],\n",
       "       [113, 109],\n",
       "       [117, 122],\n",
       "       [122, 117]])"
      ]
     },
     "execution_count": 141,
     "metadata": {},
     "output_type": "execute_result"
    }
   ],
   "source": [
    "np.array(f[\"grids/1/line_features_group/2/edge_index\"])"
   ]
  },
  {
   "cell_type": "code",
   "execution_count": 85,
   "metadata": {},
   "outputs": [
    {
     "data": {
      "text/plain": [
       "<KeysViewHDF5 ['SlackAlgebraic', 'load', 'normalForm']>"
      ]
     },
     "execution_count": 85,
     "metadata": {},
     "output_type": "execute_result"
    }
   ],
   "source": [
    "f[\"grids/1/node_features_group\"].keys()"
   ]
  },
  {
   "cell_type": "code",
   "execution_count": 96,
   "metadata": {},
   "outputs": [],
   "source": [
    "f = h5py.File(\"data/n128/data/grids/grid_00001_vertexpos.h5\", \"r\")"
   ]
  },
  {
   "cell_type": "code",
   "execution_count": 97,
   "metadata": {},
   "outputs": [
    {
     "data": {
      "text/plain": [
       "<KeysViewHDF5 ['vertexpos']>"
      ]
     },
     "execution_count": 97,
     "metadata": {},
     "output_type": "execute_result"
    }
   ],
   "source": [
    "f.keys()"
   ]
  },
  {
   "cell_type": "code",
   "execution_count": 99,
   "metadata": {},
   "outputs": [
    {
     "data": {
      "text/plain": [
       "array([[-0.35645227, -0.33880049, -0.61809404,  0.74169797, -0.75704659,\n",
       "         0.73837364, -0.36629057,  0.75320539,  0.61952139,  0.25554202,\n",
       "        -0.80102946, -0.39729654,  0.16468708,  0.67410781,  0.83691853,\n",
       "        -0.0425468 ,  0.29083475,  0.84526295, -0.22301171, -0.0682922 ,\n",
       "         0.63005799,  0.90089005, -0.54119894, -0.90145306, -0.31153162,\n",
       "        -0.67671327, -0.95949586, -0.84530899,  0.6511806 ,  0.1140642 ,\n",
       "         0.74891452,  0.20114837, -0.01564218, -0.44902919, -0.30510266,\n",
       "        -0.63785062, -0.22846382,  0.98866145,  0.23397264, -0.95701104,\n",
       "        -0.30650703, -0.88240746, -0.7200148 , -0.34887757,  0.41991327,\n",
       "         0.72232208,  0.98969828, -0.45106687,  0.43884802, -0.56529771,\n",
       "         0.67107037,  0.07988417, -0.92203264,  0.80420674, -0.10535536,\n",
       "        -0.09847178,  0.2269991 , -0.62117109, -0.14534255, -0.14378347,\n",
       "         0.74388277, -0.12008027, -0.10266699,  0.66126893, -0.52615077,\n",
       "        -0.35171842,  0.67069426, -0.272305  , -0.90791129,  0.94588088,\n",
       "         0.59070057,  0.06852179, -0.3024677 ,  0.86116239,  0.01160647,\n",
       "         0.10610596, -0.85602093, -0.23947268,  0.15164671,  0.63952388,\n",
       "        -0.49218618, -0.87237434, -0.94989676,  0.603951  ,  0.74805343,\n",
       "         0.14272472, -0.44985701,  0.4698533 , -0.79447078,  0.23441889,\n",
       "         0.0520114 ,  0.81117388,  0.09374499, -0.26007929, -0.96974838,\n",
       "         0.66868452, -0.13829892, -0.56560353,  0.37173449,  0.3422414 ,\n",
       "         0.15364919, -0.21328666,  0.46946369, -0.64248922,  0.63801377,\n",
       "         0.34263269, -0.83740047,  0.54988757, -0.06836486,  0.97812337,\n",
       "         0.37167245, -0.8925241 , -0.65758733,  0.36816997,  0.30668169,\n",
       "         0.17368365, -0.22986892, -0.41705147, -0.4541582 ,  0.14738059,\n",
       "        -0.29236287, -0.10621287, -0.98181677,  0.21557951, -0.6167485 ,\n",
       "        -0.15184776, -0.75897586, -0.78406169],\n",
       "       [-0.19433743,  0.0861795 ,  0.50704054,  0.19519224,  0.98426871,\n",
       "         0.21415325,  0.08085097,  0.82653511,  0.1210192 ,  0.14709228,\n",
       "         0.68034836,  0.13333008,  0.27067358, -0.1336339 ,  0.90665143,\n",
       "         0.63703449, -0.86170139, -0.05942106,  0.36889634, -0.81274016,\n",
       "         0.31809892, -0.22172629,  0.91527011, -0.40309817,  0.24925137,\n",
       "        -0.80623596, -0.95120499,  0.93952597,  0.60040393,  0.66791234,\n",
       "         0.87996518,  0.78960743,  0.23946699, -0.57654368, -0.69244461,\n",
       "        -0.38217922, -0.86070407,  0.07247046, -0.95373104, -0.28483084,\n",
       "         0.51040424, -0.94672276,  0.89618245, -0.24384884, -0.15040176,\n",
       "        -0.96413154, -0.14387136, -0.78881531,  0.42315234,  0.92297361,\n",
       "        -0.17519369, -0.99774405, -0.94902672, -0.25898672,  0.81625333,\n",
       "         0.55394011, -0.21555545,  0.44680319,  0.91054979,  0.35526191,\n",
       "        -0.39784717,  0.85097712,  0.91970803,  0.28814718,  0.52817416,\n",
       "        -0.28394245, -0.91796982,  0.44329698,  0.98850005,  0.03108559,\n",
       "        -0.27368206,  0.21679752,  0.45839264,  0.62738167,  0.73718   ,\n",
       "        -0.69332212,  0.05733842,  0.8173435 , -0.31132143,  0.23222692,\n",
       "        -0.62008132, -0.39218115,  0.47063816,  0.83230078,  0.33876998,\n",
       "        -0.67318713, -0.113279  ,  0.57011288, -0.00962938, -0.46957732,\n",
       "         0.96960126,  0.18594442,  0.3549255 ,  0.58049233,  0.5557507 ,\n",
       "         0.69174693, -0.56155823, -0.03688587,  0.70673319,  0.1265484 ,\n",
       "        -0.56253915, -0.72820578,  0.14034962,  0.08906198,  0.60446296,\n",
       "        -0.49006366, -0.94817576, -0.3941165 , -0.13711038,  0.62566974,\n",
       "        -0.71128062,  0.27730094,  0.7805606 ,  0.6953884 ,  0.13497446,\n",
       "        -0.5394805 , -0.90684932,  0.46705778,  0.18935791,  0.32559087,\n",
       "        -0.8937256 , -0.0731645 , -0.8747099 ,  0.42682086, -0.5274347 ,\n",
       "         0.84202801,  0.97142083, -0.35813179]])"
      ]
     },
     "execution_count": 99,
     "metadata": {},
     "output_type": "execute_result"
    }
   ],
   "source": [
    "np.array(f.get(\"vertexpos\"))"
   ]
  },
  {
   "cell_type": "code",
   "execution_count": null,
   "metadata": {},
   "outputs": [],
   "source": []
  }
 ],
 "metadata": {
  "kernelspec": {
   "display_name": "NetSciGNN",
   "language": "python",
   "name": "netscignn"
  },
  "language_info": {
   "codemirror_mode": {
    "name": "ipython",
    "version": 3
   },
   "file_extension": ".py",
   "mimetype": "text/x-python",
   "name": "python",
   "nbconvert_exporter": "python",
   "pygments_lexer": "ipython3",
   "version": "3.8.16"
  }
 },
 "nbformat": 4,
 "nbformat_minor": 2
}
